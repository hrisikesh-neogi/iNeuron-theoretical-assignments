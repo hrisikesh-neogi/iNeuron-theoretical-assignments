{
 "cells": [
  {
   "cell_type": "markdown",
   "metadata": {},
   "source": [
    "# PYTHON THEORETICAL BASIC ASSSIGNMENT 2"
   ]
  },
  {
   "cell_type": "markdown",
   "metadata": {},
   "source": [
    "#### 1.What are the two values of the Boolean data type? How do you write them?"
   ]
  },
  {
   "cell_type": "markdown",
   "metadata": {},
   "source": [
    "True and False are the two values of the Boolean data type.\n",
    "The very first letter of the both values are have to be in capital, otherwise python compiler would not identify this as a boolean value, it will then consider this as a wrong syntaxed string. Both the boolean values should have to be written as -True, False."
   ]
  },
  {
   "cell_type": "markdown",
   "metadata": {},
   "source": [
    "#### 2. What are the three different types of Boolean operators?"
   ]
  },
  {
   "cell_type": "markdown",
   "metadata": {},
   "source": [
    "The three types of boolean operators are: AND, OR, NOT."
   ]
  },
  {
   "cell_type": "markdown",
   "metadata": {},
   "source": [
    "#### 3. Make a list of each Boolean operator&#39;s truth tables (i.e. every possible combination of Boolean values for the operator and what it evaluate )."
   ]
  },
  {
   "cell_type": "code",
   "execution_count": 1,
   "metadata": {},
   "outputs": [],
   "source": [
    "a = True\n",
    "b = False"
   ]
  },
  {
   "cell_type": "code",
   "execution_count": 2,
   "metadata": {},
   "outputs": [
    {
     "name": "stdout",
     "output_type": "stream",
     "text": [
      "True and False = False\n",
      "False and True = False\n",
      "True and True = True\n",
      "False and False = False\n"
     ]
    }
   ],
   "source": [
    "#and operator\n",
    "\n",
    "print ( a ,'and', b, '=', a and b),\n",
    "print ( b ,'and', a, '=', b and a),\n",
    "print ( a ,'and', a, '=', a and a),\n",
    "print ( b ,'and', b, '=', b and b)"
   ]
  },
  {
   "cell_type": "code",
   "execution_count": 3,
   "metadata": {},
   "outputs": [
    {
     "name": "stdout",
     "output_type": "stream",
     "text": [
      "True or False = True\n",
      "False or True = True\n",
      "True or True = True\n",
      "False or False = False\n"
     ]
    }
   ],
   "source": [
    "#or operator\n",
    "print ( a , 'or', b, '=', a or b)\n",
    "print ( b , 'or', a, '=', b or a)\n",
    "print ( a , 'or', a, '=', a or a)\n",
    "print ( b , 'or', b, '=', b or b)"
   ]
  },
  {
   "cell_type": "code",
   "execution_count": 4,
   "metadata": {},
   "outputs": [
    {
     "name": "stdout",
     "output_type": "stream",
     "text": [
      "not True = False\n",
      "not False = True\n",
      "not 0 = True\n",
      "not 0 = True\n",
      "not ( True or False )= False\n",
      "not ( False or True )= False\n",
      "not ( True or True )= False\n",
      "not ( False or False )= True\n",
      "not ( True and False )= True\n",
      "not ( False and True )= True\n",
      "not ( True and True )= False\n",
      "not ( False and False )= True\n"
     ]
    }
   ],
   "source": [
    "#not operator\n",
    "\n",
    "print ( 'not', a,   '=' , not a)\n",
    "print ( 'not', b,   '='  ,  not b)\n",
    "print ( 'not', a*b, '=', not a*b)\n",
    "print ( 'not', b*a, '=', not b*a)\n",
    "\n",
    "#not with or operator\n",
    "print ( 'not (', a, 'or', b ,')=', not (a or b) )\n",
    "print ( 'not (', b, 'or', a ,')=', not (b or a) )\n",
    "print ( 'not (', a, 'or', a ,')=', not (a or a) )\n",
    "print ( 'not (', b, 'or', b ,')=', not (b or b) )\n",
    "\n",
    "#not with and operator\n",
    "print ( 'not (', a, 'and', b ,')=', not (a and b) )\n",
    "print ( 'not (', b, 'and', a ,')=', not (b and a) )\n",
    "print ( 'not (', a, 'and', a ,')=', not (a and a) )\n",
    "print ( 'not (', b, 'and', b ,')=', not (b and b) )\n",
    "\n"
   ]
  },
  {
   "cell_type": "markdown",
   "metadata": {},
   "source": [
    "#### 4. What are the values of the following expressions?\n",
    "(5 > 4) and (3 == 5)\n",
    "\n",
    "not (5 > 4)\n",
    "\n",
    "(5 > 4) or (3 == 5)\n",
    "\n",
    "not ((5 > 4) or (3 == 5))\n",
    "\n",
    "(True and True) and (True == False)\n",
    "\n",
    "(not False) or (not True)"
   ]
  },
  {
   "cell_type": "code",
   "execution_count": 5,
   "metadata": {},
   "outputs": [
    {
     "data": {
      "text/plain": [
       "False"
      ]
     },
     "execution_count": 5,
     "metadata": {},
     "output_type": "execute_result"
    }
   ],
   "source": [
    "#1\n",
    "(5 > 4) and (3 == 5)\n"
   ]
  },
  {
   "cell_type": "code",
   "execution_count": 6,
   "metadata": {},
   "outputs": [
    {
     "data": {
      "text/plain": [
       "False"
      ]
     },
     "execution_count": 6,
     "metadata": {},
     "output_type": "execute_result"
    }
   ],
   "source": [
    "#2\n",
    "not (5 > 4)\n"
   ]
  },
  {
   "cell_type": "code",
   "execution_count": 7,
   "metadata": {},
   "outputs": [
    {
     "data": {
      "text/plain": [
       "True"
      ]
     },
     "execution_count": 7,
     "metadata": {},
     "output_type": "execute_result"
    }
   ],
   "source": [
    "#3\n",
    "(5 > 4) or (3 == 5)\n"
   ]
  },
  {
   "cell_type": "code",
   "execution_count": 8,
   "metadata": {},
   "outputs": [
    {
     "data": {
      "text/plain": [
       "False"
      ]
     },
     "execution_count": 8,
     "metadata": {},
     "output_type": "execute_result"
    }
   ],
   "source": [
    "#4\n",
    "not ((5 > 4) or (3 == 5))\n"
   ]
  },
  {
   "cell_type": "code",
   "execution_count": 9,
   "metadata": {},
   "outputs": [
    {
     "data": {
      "text/plain": [
       "False"
      ]
     },
     "execution_count": 9,
     "metadata": {},
     "output_type": "execute_result"
    }
   ],
   "source": [
    "#5\n",
    "(True and True) and (True == False)\n"
   ]
  },
  {
   "cell_type": "code",
   "execution_count": 10,
   "metadata": {},
   "outputs": [
    {
     "data": {
      "text/plain": [
       "True"
      ]
     },
     "execution_count": 10,
     "metadata": {},
     "output_type": "execute_result"
    }
   ],
   "source": [
    "#6\n",
    "(not False) or (not True)"
   ]
  },
  {
   "cell_type": "markdown",
   "metadata": {},
   "source": [
    "#### 5. What are the six comparison operators?"
   ]
  },
  {
   "cell_type": "markdown",
   "metadata": {},
   "source": [
    "answer -\n",
    "\n",
    "(i) *Less than (<)* — returns true if the value on the left is less than the value on the right, otherwise it returns false.\n",
    "\n",
    "(ii) *Greater than (>)* — returns true if the value on the left is greater than the value on the right, otherwise it returns false.\n",
    "\n",
    "(iii) *Less than or equal to (<=)* — returns true if the value on the left is less than or equal to the value on the right, otherwise it returns false.\n",
    "\n",
    "(iv) *Greater than or equal to (>=)* — returns true if the value on the left is greater than or equal to the value on the right, otherwise it returns false.\n",
    "\n",
    "(v) *Equal to (===)* — returns true if the value on the left is equal to the value on the right, otherwise it returns false.\n",
    "\n",
    "(vi) *Not equal to (!==)* — returns true if the value on the left is not equal to the value on the right, otherwise it returns false."
   ]
  },
  {
   "cell_type": "markdown",
   "metadata": {},
   "source": [
    "#### 6. How do you tell the difference between the equal to and assignment operators?Describe a condition and when you would use one."
   ]
  },
  {
   "attachments": {
    "theoretical-assignment-2-Jupyter-Notebook%20%281%29.png": {
     "image/png": "[encoded data removed]"
    },
    "theoretical-assignment-2-Jupyter-Notebook.png": {
     "image/png": "[encoded data removed]"
    }
   },
   "cell_type": "markdown",
   "metadata": {},
   "source": [
    "the assignment operator (=) and the equality operator (==) appear to be similar but are used for completely different reasons.\n",
    "\n",
    "The assignment operator (=) is used to assign a value to a variable, element of an array, or property of an object. Here are a few examples of using the assignment operator:\n",
    "\n",
    "In Python (=) symbol is defined as assignment operator. It requires one variable on its left and an expression on its right. Value of the expression on right is assigned to variable on left. Expression and name of variable are not interchangeable.\n",
    "\n",
    "![theoretical-assignment-2-Jupyter-Notebook.png](attachment:theoretical-assignment-2-Jupyter-Notebook.png) \n",
    "\n",
    "The equality operator (==) is used to compare two values or expressions. It is used to compare numbers, strings, Boolean values, variables, objects, lists, or functions. The result is TRUE if the expressions are equal and FALSE otherwise. How items are compared depends on their data type:\n",
    "\n",
    "The (==) symbol is a comparison operator and called equal to operator. It returns true if operands on either side are equal, otherwise it returns false.\n",
    "\n",
    "![theoretical-assignment-2-Jupyter-Notebook%20%281%29.png](attachment:theoretical-assignment-2-Jupyter-Notebook%20%281%29.png)\n",
    "\n",
    "- Numbers, strings, and Boolean values are compared by value, and are considered equal if they have the same value. For instance, two strings are equal if they have the same characters .\n",
    "\n",
    "\n",
    "- Variables, functions are compared by reference. Two variables are equal if they refer to the same object, list, or function. Two separate lists are never considered equal, even if they have the same number of elements."
   ]
  },
  {
   "cell_type": "markdown",
   "metadata": {},
   "source": [
    "#### 7. Identify the three blocks in this code:\n",
    "\n",
    "spam = 0\n",
    "\n",
    "if spam == 10:\n",
    "\n",
    "print('eggs')\n",
    "\n",
    "if spam > 5:\n",
    "\n",
    "print('bacon')\n",
    "\n",
    "else:\n",
    "\n",
    "print('ham')\n",
    "\n",
    "print('spam')\n",
    "\n",
    "print('spam')\n"
   ]
  },
  {
   "cell_type": "code",
   "execution_count": 11,
   "metadata": {},
   "outputs": [
    {
     "name": "stdout",
     "output_type": "stream",
     "text": [
      "ham\n",
      "spam\n",
      "spam\n"
     ]
    }
   ],
   "source": [
    "spam = 0\n",
    "if spam == 10:   #1st block\n",
    "    print('eggs') \n",
    "if spam > 5:      #2nd block\n",
    "    print('bacon')\n",
    "else:              #3rd block\n",
    "    print('ham')\n",
    "    print('spam')\n",
    "    print('spam')\n"
   ]
  },
  {
   "cell_type": "markdown",
   "metadata": {},
   "source": [
    "#### 8. Write code that prints Hello if 1 is stored in spam, prints Howdy if 2 is stored in spam, and prints Greetings! if anything else is stored in spam.\n"
   ]
  },
  {
   "cell_type": "code",
   "execution_count": 12,
   "metadata": {},
   "outputs": [
    {
     "name": "stdout",
     "output_type": "stream",
     "text": [
      "Give a value you want to store in Spam. Spam =1\n",
      "Hello\n"
     ]
    }
   ],
   "source": [
    "Spam = int(input('Give a value you want to store in Spam. Spam ='))\n",
    "\n",
    "if Spam == 1:\n",
    "    print('Hello')\n",
    "elif Spam == 2:\n",
    "    print('Howdy')\n",
    "else:\n",
    "    print('Greetings')"
   ]
  },
  {
   "cell_type": "markdown",
   "metadata": {},
   "source": [
    "#### 9.If your programme is stuck in an endless loop, what keys you’ll press?"
   ]
  },
  {
   "cell_type": "markdown",
   "metadata": {},
   "source": [
    "An infinite loop occurs when a program keeps executing within one loop, never leaving it. To exit out of infinite loops on the command line,  (CTRL + C) are pressed."
   ]
  },
  {
   "cell_type": "markdown",
   "metadata": {},
   "source": [
    "#### 10. How can you tell the difference between break and continue?\n"
   ]
  },
  {
   "cell_type": "markdown",
   "metadata": {},
   "source": [
    "The break statement takes care of terminating the loop in which it is used. If the break statement is used inside nested loops, the current loop is terminated, and the flow will continue with the code followed that comes after the loop.\n",
    "\n",
    "The continue statement skips the code that comes after it, and the control is passed back to the start for the next iteration."
   ]
  },
  {
   "cell_type": "markdown",
   "metadata": {},
   "source": [
    "### 11. In a for loop, what is the difference between range(10), range(0, 10), and range(0, 10, 1)?\n"
   ]
  },
  {
   "cell_type": "code",
   "execution_count": 13,
   "metadata": {},
   "outputs": [
    {
     "data": {
      "text/plain": [
       "True"
      ]
     },
     "execution_count": 13,
     "metadata": {},
     "output_type": "execute_result"
    }
   ],
   "source": [
    "range(10) == range( 0,10) == range(0,10,1)"
   ]
  },
  {
   "attachments": {
    "theoretical-assignment-2-Jupyter-Notebook%20%283%29.png": {
     "image/png": "[encoded data removed]"
    }
   },
   "cell_type": "markdown",
   "metadata": {},
   "source": [
    "Resultwise three of them are same. What basically differentiates them is the way the codes are written. \n",
    "![theoretical-assignment-2-Jupyter-Notebook%20%283%29.png](attachment:theoretical-assignment-2-Jupyter-Notebook%20%283%29.png)\n"
   ]
  },
  {
   "cell_type": "markdown",
   "metadata": {},
   "source": [
    "range function can take three values. range(10) means the numbers from 0 to 9 (excluding the last index/number), so it will execute and give the result from 0(default starting point) to the 'end-1'th value. In range(10) the default starting point is 0 the end point is given as 10, the step size is also default, which is 1. so it will give the output starting from 0 and end excluding the the end point which is 10. So it will print all the values from 0 to 9.\n",
    "range(0,10) does the same. Here the start point and the end point are given and the step size is default as 1. \n",
    "range (0,10,1) also does the same. Here all the values are given just like the default ones. In this way except the writing style, the outputs will be same. "
   ]
  },
  {
   "cell_type": "markdown",
   "metadata": {},
   "source": [
    "#### 12. Write a short program that prints the numbers 1 to 10 using a for loop. Then write an equivalent program that prints the numbers 1 to 10 using a while loop."
   ]
  },
  {
   "cell_type": "code",
   "execution_count": 19,
   "metadata": {},
   "outputs": [
    {
     "name": "stdout",
     "output_type": "stream",
     "text": [
      "1\n",
      "2\n",
      "3\n",
      "4\n",
      "5\n",
      "6\n",
      "7\n",
      "8\n",
      "9\n",
      "10\n"
     ]
    }
   ],
   "source": [
    "#with for loop\n",
    "\n",
    "for i in range(1,11):\n",
    "    print (i)"
   ]
  },
  {
   "cell_type": "code",
   "execution_count": 20,
   "metadata": {},
   "outputs": [
    {
     "name": "stdout",
     "output_type": "stream",
     "text": [
      "1\n",
      "2\n",
      "3\n",
      "4\n",
      "5\n",
      "6\n",
      "7\n",
      "8\n",
      "9\n",
      "10\n"
     ]
    }
   ],
   "source": [
    "#with while loop\n",
    "\n",
    "i = 1\n",
    "while i<=10:\n",
    "    print(i)\n",
    "    i+=1"
   ]
  },
  {
   "cell_type": "markdown",
   "metadata": {},
   "source": [
    "#### 13. If you had a function named bacon() inside a module named spam, how would you call it after importing spam?"
   ]
  },
  {
   "cell_type": "markdown",
   "metadata": {},
   "source": [
    "importing the module spam -\n",
    "\n",
    "!pip install spam\n",
    "\n",
    "#calling the function- \n",
    "\n",
    "spam.bacon( 'values to be taken') "
   ]
  },
  {
   "cell_type": "code",
   "execution_count": null,
   "metadata": {},
   "outputs": [],
   "source": []
  }
 ],
 "metadata": {
  "kernelspec": {
   "display_name": "Python 3",
   "language": "python",
   "name": "python3"
  },
  "language_info": {
   "codemirror_mode": {
    "name": "ipython",
    "version": 3
   },
   "file_extension": ".py",
   "mimetype": "text/x-python",
   "name": "python",
   "nbconvert_exporter": "python",
   "pygments_lexer": "ipython3",
   "version": "3.8.3"
  }
 },
 "nbformat": 4,
 "nbformat_minor": 4
}
