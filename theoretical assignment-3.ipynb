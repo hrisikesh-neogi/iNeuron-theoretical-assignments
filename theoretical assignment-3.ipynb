{
 "cells": [
  {
   "cell_type": "markdown",
   "metadata": {},
   "source": [
    "# PYTHON THEORETICAL BASIC ASSIGNMENT"
   ]
  },
  {
   "cell_type": "markdown",
   "metadata": {},
   "source": [
    "### 1. Why are functions advantageous to have in your programs?\n"
   ]
  },
  {
   "cell_type": "markdown",
   "metadata": {},
   "source": [
    "Functions reduce the need for duplicate code. This makes programs shorter, easier to read, and easier to update. For reusability, functions are very much considered to be in any programming.\n",
    "\n",
    "They allow us to conceive of our program as a bunch of sub-steps. (Each sub-step can be its own function. When any program seems too hard, just break the overall program into sub-steps!)\n",
    "\n",
    "They allow us to reuse code instead of rewriting it.\n",
    "\n",
    "Functions allow us to keep our variable namespace clean (local variables only \"live\" as long as the function does). In other words, function_1 can use a variable called i, and function_2 can also use a variable called i and there is no confusion. Each variable i only exists when the computer is executing the given function.\n",
    "\n",
    "Functions allow us to test small parts of our program in isolation from the rest. This is especially true in interpreted langaues, such as Matlab, but can be useful in C, Java, ActionScript, etc."
   ]
  },
  {
   "cell_type": "markdown",
   "metadata": {},
   "source": [
    "### 2. When does the code in a function run: when it's specified or when it's called?\n"
   ]
  },
  {
   "cell_type": "markdown",
   "metadata": {},
   "source": [
    "The code in a function run: when it is called in a code. "
   ]
  },
  {
   "cell_type": "markdown",
   "metadata": {},
   "source": [
    "### 3. What statement creates a function?\n"
   ]
  },
  {
   "cell_type": "markdown",
   "metadata": {},
   "source": [
    "First of all 'def' keyword we have to write to define a function, then the function name, then double parentheses along with a ':' following, create a function. In optional, we can assign a input value which the function will use while executing the function code. It is optional because it can be remained empty with empty parentheses and then we can set any variable for the user to input it whenever the function will be called by the user.\n",
    "\n",
    "exm- #with a input value into the parentheses\n",
    "\n",
    "def function_name (optional):\n",
    "    \n",
    "    return optional**3\n",
    "\n",
    "exm - # with a empty parentheses\n",
    "\n",
    "def function_name ():\n",
    "    \n",
    "    a = input('enter the value:')\n",
    "    \n",
    "    return a**3+a\n",
    "                "
   ]
  },
  {
   "cell_type": "markdown",
   "metadata": {},
   "source": [
    "### 4. What is the difference between a function and a function call?\n"
   ]
  },
  {
   "cell_type": "markdown",
   "metadata": {},
   "source": [
    "Square of a ,\n",
    "square of b and\n",
    "square of c\n",
    "\n",
    "Each of the task is same i.e. squaring but with different values.\n",
    "Here we will have to repeat same task with different values.\n",
    "\n",
    "The concept of function has been introduced to eliminate this repetition of same task.\n",
    "\n",
    "A Function is block of code that accepts some values and then processes the desire task on it and return the result value.\n",
    "\n",
    "for example in above case, function can be written to accept any number and return its square. Using this now, whenever we want to calculate square of any number we simple pass the value whose square is required and in return the function can give the result value i.e. square of that no.\n",
    "\n",
    "Using a function to do a particular task any point in program is called as function call.\n",
    "\n",
    "So the difference between the function and function call is,\n",
    "\n",
    "A function is procedure to achieve a particular result while function call is using this function to achive that task."
   ]
  },
  {
   "cell_type": "markdown",
   "metadata": {},
   "source": [
    "### 5. How many global scopes are there in a Python program? How many local scopes?\n"
   ]
  },
  {
   "cell_type": "markdown",
   "metadata": {},
   "source": [
    "There's only one global Python scope per program execution.\n",
    "\n",
    "There's not any limit of numbers while creating and using local scopes in a python program, it could be zero, one, two or to the infinity. "
   ]
  },
  {
   "cell_type": "markdown",
   "metadata": {},
   "source": [
    "### 6. What happens to variables in a local scope when the function call returns?\n"
   ]
  },
  {
   "cell_type": "markdown",
   "metadata": {},
   "source": [
    "A local variable retains its value until the next time the function is called\n",
    "\n",
    "A local variable becomes undefined after the function call completes\n",
    "\n",
    "The local variable can be used outside the function any time after the function call completes."
   ]
  },
  {
   "cell_type": "markdown",
   "metadata": {},
   "source": [
    "### 7. What is the concept of a return value? Is it possible to have a return value in an expression?\n"
   ]
  },
  {
   "attachments": {
    "ab393382-eff6-4f23-bba3-8bcb33287284.png": {
     "image/png": "[encoded data removed]"
    }
   },
   "cell_type": "markdown",
   "metadata": {},
   "source": [
    "A return statement is used to end the execution of the function call and “returns” the result (value of the expression following the return keyword) to the caller. The statements after the return statements are not executed. If the return statement is without any expression, then the special value None is returned.\n",
    "\n",
    "The Python return statement is a key component of functions and methods. We can use the return statement to make our functions send Python objects back to the caller code. These objects are known as the function’s return value. We can use them to perform further computation in our programs.\n",
    "\n",
    "So, The value that a function returns to the caller is generally known as the function’s return value. \n",
    "\n",
    "\n",
    "The return value is used inside a function, inside a function it can be used followed by an expression, but in case of a normal expression ( if that expression is not in a function program), then the error message \" 'return' outside function\" is shown. We can see it below - \n",
    "\n",
    "![image.png](attachment:ab393382-eff6-4f23-bba3-8bcb33287284.png)"
   ]
  },
  {
   "cell_type": "markdown",
   "metadata": {},
   "source": [
    "### 8. If a function does not have a return statement, what is the return value of a call to that function?\n"
   ]
  },
  {
   "cell_type": "markdown",
   "metadata": {},
   "source": [
    "\n",
    "If a function doesn't have a return statement , it returns None.\n",
    "\n"
   ]
  },
  {
   "cell_type": "markdown",
   "metadata": {},
   "source": [
    "### 9. How do you make a function variable refer to the global variable?\n"
   ]
  },
  {
   "cell_type": "markdown",
   "metadata": {},
   "source": [
    "If we want to make a function variable refer to a global variable, we can use the global keyword to declare which variables are global."
   ]
  },
  {
   "cell_type": "markdown",
   "metadata": {},
   "source": [
    "### 10. What is the data type of None?\n"
   ]
  },
  {
   "cell_type": "markdown",
   "metadata": {},
   "source": [
    "The None keyword is used to define a null value, or no value at all.\n",
    "\n",
    "None is not the same as 0, False, or an empty string. None is a data type of its own (NoneType) and only None can be None.\n",
    "\n",
    "The data type of None is NoneType"
   ]
  },
  {
   "cell_type": "markdown",
   "metadata": {},
   "source": [
    "### 11. What does the sentence import areallyourpetsnamederic do?\n"
   ]
  },
  {
   "cell_type": "markdown",
   "metadata": {},
   "source": [
    "That import statement imports a module named areallyourpetsnamederic. (This isn’t a real Python module, by the way.)\n",
    "\n",
    "Basically import is a keyword which is used to import a library which should be already installed in the user's system, otherwise it has to be installed with the !pip install library-name - in this way, then import library-name imports the library to the current compiler or file the user is working."
   ]
  },
  {
   "cell_type": "markdown",
   "metadata": {},
   "source": [
    "### 12. If you had a bacon() feature in a spam module, what would you call it after importing spam?\n"
   ]
  },
  {
   "cell_type": "markdown",
   "metadata": {},
   "source": [
    "The function can be called with spam.bacon( )"
   ]
  },
  {
   "cell_type": "markdown",
   "metadata": {},
   "source": [
    "### 13. What can you do to save a programme from crashing if it encounters an error?\n"
   ]
  },
  {
   "cell_type": "markdown",
   "metadata": {},
   "source": [
    "The concept of error handling comes here, which is been used for - \n",
    "\n",
    "1.Prevents program from crashing if an error occurs\n",
    "\n",
    "If an error occurs in a program, we don’t want the program to unexpectedly crash on the user. Instead, error handling can be used to notify the user of why the error occurred and gracefully exit the process that caused the error.\n",
    "\n",
    "\n",
    "2.Saves time debugging errors\n",
    "\n",
    "Following reason #1, having the program display an error instead of immediately crashing will save a lot of time when debugging errors.\n",
    "The logic inside the error handler can be updated to display useful information for the developer, such as the code trackback, type of error, etc.\n",
    "\n",
    "\n",
    "3.Helps define requirements for the program\n",
    "\n",
    "If the program crashes due to bad input, the error handler could notify the user of why the error occurred and define the requirements and constraints of the program.\n"
   ]
  },
  {
   "cell_type": "markdown",
   "metadata": {},
   "source": [
    "### 14. What is the purpose of the try clause? What is the purpose of the except clause?\n",
    "\n"
   ]
  },
  {
   "cell_type": "markdown",
   "metadata": {},
   "source": [
    "Try and Except statement is used to handle errors within our code in Python. The try block is used to check some code for errors i.e the code inside the try block will execute when there is no error in the program. Whereas the code inside the except block will execute whenever the program encounters some error in the preceding try block."
   ]
  },
  {
   "cell_type": "code",
   "execution_count": null,
   "metadata": {},
   "outputs": [],
   "source": []
  }
 ],
 "metadata": {
  "kernelspec": {
   "display_name": "Python 3",
   "language": "python",
   "name": "python3"
  },
  "language_info": {
   "codemirror_mode": {
    "name": "ipython",
    "version": 3
   },
   "file_extension": ".py",
   "mimetype": "text/x-python",
   "name": "python",
   "nbconvert_exporter": "python",
   "pygments_lexer": "ipython3",
   "version": "3.8.3"
  }
 },
 "nbformat": 4,
 "nbformat_minor": 4
}
