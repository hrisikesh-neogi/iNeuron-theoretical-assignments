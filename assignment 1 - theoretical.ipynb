{
 "cells": [
  {
   "cell_type": "markdown",
   "metadata": {},
   "source": [
    "# ASSIGNMENT 1\n"
   ]
  },
  {
   "cell_type": "markdown",
   "metadata": {},
   "source": [
    "### 1. In the below elements which of them are values or an expression? eg:- values can be integer or string and expressions will be mathematical operators.\n",
    "\n"
   ]
  },
  {
   "cell_type": "markdown",
   "metadata": {},
   "source": [
    "( * ) - it's a multiplication operator, expression. -\n",
    "\n",
    "( 'hello' ) - it's a string, expression.\n",
    "\n",
    "( -87.8 )   – it’s a float, value.\n",
    "\n",
    "( - )         - it’s a minus operator, expression. \n",
    "\n",
    "( / )         - It’s division operator, expression. \n",
    "\n",
    "( + )         - it’s a plus operator, expression.\n",
    "\n",
    "( 6 )        - it’s an integer, values.\n",
    "\n"
   ]
  },
  {
   "cell_type": "markdown",
   "metadata": {},
   "source": [
    "### 2. What is the difference between string and variable?# "
   ]
  },
  {
   "cell_type": "markdown",
   "metadata": {},
   "source": [
    "Spam – it’s a variable, because it does not have single or double quotation marks which if it’d be a string, wasn’t possible. It’s a variable. A variable can be anything having alphabetical bundles, names, alphanumerical orders like XY – where  X can be any alphabetical bundles and Y can be any numbers. But not in YX format where numbers come first then alphabets as python compiler will start seeing from the first character and consider the whole ‘YX’ as a combination of integer and an incorrect string syntax. Variables store data and output that data when one/user calls it for. \n",
    "'spam' – it’s a string. It has quoted with single quotations. This is the syntax of writing a string.  No matter what’s inside, it could be a float, an integer, some alphabetical bundles or combination of each of the previously mentioned values with a comma separation. Variable stored some data, where string is a data type.\n"
   ]
  },
  {
   "cell_type": "markdown",
   "metadata": {},
   "source": [
    "### 3. Describe three different data types."
   ]
  },
  {
   "attachments": {
    "exam.png": {
     "image/png": "[encoded data removed]"
    }
   },
   "cell_type": "markdown",
   "metadata": {},
   "source": [
    "i) *Integers – this could be any possible and real numbers from ‘0 to infinity’. Python compiler identifies integers when any number is written in a variable. \n",
    "\n",
    "\n",
    "Example – \n",
    "\n",
    "\n",
    "![exam.png](attachment:exam.png)\n",
    "\n",
    "a = 1900 \n",
    " – here a is a variable that has data, 1900, stored in it. Python compiler identifies the data type and when we check the data type of the variable ‘a’, it returns that the variable is an integer. This is how an integer is written and stored in a variable. \n",
    " \n",
    " ii) *Boolean – in programming we often need to know if an expression if True of False. We can check and evaluate any expression in Python and get to know whether that particular expres-sion is True or False. When we compare two values, the expression is evaluated and python returns the Boolean answer. \n",
    " \n",
    " iii) *float - The float type in Python represents the floating point number. Float is used to represent real numbers and is written with a decimal point dividing the integer and fractional parts. For example, 97.98, 32.3+e18, -32.54e100 all are floating point numbers."
   ]
  },
  {
   "cell_type": "markdown",
   "metadata": {},
   "source": [
    "### What is an expression made up of? What do all expressions do?"
   ]
  },
  {
   "cell_type": "markdown",
   "metadata": {},
   "source": [
    "An expression is a valid combination of values, variables, and operators. A value all by itself is considered as an expression, and so is a variable. Also, a sequence of operands and operators, like a + b + c - 5, is called an expression.\n",
    "\n",
    "Expressions are representations of value. They are different from statement in the fact that statements do something while expressions are representation of value. For example any string is also an expressions since it represents the value of the string as well.\n",
    "\n",
    "Expressions do some sort of operations. An expression is anything that evaluates to a value. An expression is any sequence of literals (strings, numbers, lists, sets, tuples), objects, function calls, identifiers combined with a variety of operators which results in a value - regardless of whether of the resulting value is an object, or a number, or even a None. So examples of expressions are :\n",
    "\n",
    "‘Hello World’ - this is a string literal\n",
    "23.6 - this is a floating point literal\n",
    "{1,2,3,4} - a set literal\n",
    "my_func(1,2,3) - a function call (even if the function returns None)\n",
    "2 + the_number * math.factorial(7) - a combination of literals, operators, identifiers and function calls\n",
    "Expressions aren’t things like for loops, while loops, with statements, try/except, if/else - they are statements.\n",
    "\n",
    "\n",
    "#### The function of all expressions are - \n",
    "1.  Expressions evaluate to a value. \n",
    "2. Expressions do some sort of operations. "
   ]
  },
  {
   "cell_type": "markdown",
   "metadata": {},
   "source": [
    "### This assignment statements, like spam = 10. What is the difference between an expression and a statement?"
   ]
  },
  {
   "cell_type": "markdown",
   "metadata": {},
   "source": [
    "A statement doesn't evaluates something. It doesn't execute an operation. Where expression evaluates to a value and gives some sort of results. \n",
    "\n",
    "A statement, here, is when we are assigning the value 10 to a variable but it won't gives any kind of result as we weren't doing any kind of operations. If we do any operations with the variable 'spam', \n",
    "\n",
    "- it could be - spam*3\n",
    "- it could be - spam+10\n",
    " in those upper cases, that will be considered as an expression. and executing this operations, we'd get an output or a result value.\n",
    " Where, spam = 10, is a declaration statement. It is not doing any kind of operation, neither giving any result values. "
   ]
  },
  {
   "cell_type": "markdown",
   "metadata": {},
   "source": [
    "### 6. After running the following code, what does the variable bacon contain?\n",
    "bacon = 22\n",
    "\n",
    "bacon + 1\n"
   ]
  },
  {
   "cell_type": "code",
   "execution_count": 41,
   "metadata": {},
   "outputs": [
    {
     "data": {
      "text/plain": [
       "23"
      ]
     },
     "execution_count": 41,
     "metadata": {},
     "output_type": "execute_result"
    }
   ],
   "source": [
    "bacon = 22\n",
    "bacon + 1"
   ]
  },
  {
   "cell_type": "code",
   "execution_count": 42,
   "metadata": {},
   "outputs": [
    {
     "data": {
      "text/plain": [
       "22"
      ]
     },
     "execution_count": 42,
     "metadata": {},
     "output_type": "execute_result"
    }
   ],
   "source": [
    "bacon"
   ]
  },
  {
   "cell_type": "markdown",
   "metadata": {},
   "source": [
    "bacon will contain the same value as declared previously. \n",
    "The first one, bacon = 22, is a declaration statement, whereas, bacon +1 is an expression that is doing some sort of operations and giving some result values after adding 1 to the variable 'bacon', but that expression can't change the declared value of bacon.\n",
    "so bacon will contain 22."
   ]
  },
  {
   "cell_type": "markdown",
   "metadata": {},
   "source": [
    "### 7. What should the values of the following two terms be?\n",
    "\n",
    "'spam' + 'spamspam'\n",
    "\n",
    "'spam' * 3\n"
   ]
  },
  {
   "cell_type": "code",
   "execution_count": 3,
   "metadata": {},
   "outputs": [
    {
     "data": {
      "text/plain": [
       "'spamspamspam'"
      ]
     },
     "execution_count": 3,
     "metadata": {},
     "output_type": "execute_result"
    }
   ],
   "source": [
    "'spam' + 'spamspam'"
   ]
  },
  {
   "cell_type": "markdown",
   "metadata": {},
   "source": [
    "concatenating 'spam' with 'spamspam' will be giving the result as 'spamspamspam' as it is a string operation. So, it will try to concatenate both the values whatever is present there in that expression."
   ]
  },
  {
   "cell_type": "code",
   "execution_count": 5,
   "metadata": {},
   "outputs": [
    {
     "data": {
      "text/plain": [
       "'spamspamspam'"
      ]
     },
     "execution_count": 5,
     "metadata": {},
     "output_type": "execute_result"
    }
   ],
   "source": [
    "'spam' * 3"
   ]
  },
  {
   "cell_type": "markdown",
   "metadata": {},
   "source": [
    "'spam' is a string. Multiplying a string will give the result as the multiplied value of that particular string itself. So in this case compiler will try to multiply the string itself that much of time given in the expression as so it is giving the output value as 'spamspamspam'.\n"
   ]
  },
  {
   "cell_type": "markdown",
   "metadata": {},
   "source": [
    "### 8. Why is eggs a valid variable name while 100 is invalid?"
   ]
  },
  {
   "cell_type": "markdown",
   "metadata": {},
   "source": [
    "A variable name could be alphanumerical name ( e.g a1, b2, b_5 but not as 5a, 4b, alphabates should be at first otherwise compiler will consider as the variable name ( if given 7a) from the first index itself, means 7 will be executed at first and python will consider the whole variable as a integer value then it will not recognize the statement properly. \n",
    "it the upper case, in the question itself, 100 can't be a variable name as python compiler will consider this as a integer value. But it case of 'eggs', it will recognize it as a variable and then it will execute the declaration or statements in respect of the variable.\n"
   ]
  },
  {
   "cell_type": "markdown",
   "metadata": {},
   "source": [
    "### What three functions can be used to get the integer, floating-point number, or string version of a value?"
   ]
  },
  {
   "cell_type": "markdown",
   "metadata": {},
   "source": [
    "Type int(x) to convert x to a plain integer.\n",
    "Type float(x) to convert x to a floating-point number.\n",
    "Type str(x) to convert x to a string. \n",
    "\n",
    "let's see some examples -"
   ]
  },
  {
   "cell_type": "code",
   "execution_count": 16,
   "metadata": {},
   "outputs": [],
   "source": [
    "#converting a value to an integer\n",
    "\n",
    "a = 23.2        #a contains a floating point number\n",
    "b = ( int(a))   # here the conversion takes place with the int(x) function."
   ]
  },
  {
   "cell_type": "code",
   "execution_count": 17,
   "metadata": {},
   "outputs": [
    {
     "data": {
      "text/plain": [
       "23"
      ]
     },
     "execution_count": 17,
     "metadata": {},
     "output_type": "execute_result"
    }
   ],
   "source": [
    "b"
   ]
  },
  {
   "cell_type": "code",
   "execution_count": 20,
   "metadata": {},
   "outputs": [
    {
     "name": "stdout",
     "output_type": "stream",
     "text": [
      "<class 'float'> <class 'int'>\n"
     ]
    }
   ],
   "source": [
    "print (type (a ) ,  type (b) )"
   ]
  },
  {
   "cell_type": "code",
   "execution_count": 28,
   "metadata": {},
   "outputs": [],
   "source": [
    "#converting a value to a floating-point number\n",
    "\n",
    "c = 33          #c contains a integer value\n",
    "d = float (c)   # here the conversion takes place with the float(x) function."
   ]
  },
  {
   "cell_type": "code",
   "execution_count": 26,
   "metadata": {},
   "outputs": [
    {
     "data": {
      "text/plain": [
       "33.0"
      ]
     },
     "execution_count": 26,
     "metadata": {},
     "output_type": "execute_result"
    }
   ],
   "source": [
    "d"
   ]
  },
  {
   "cell_type": "code",
   "execution_count": 27,
   "metadata": {},
   "outputs": [
    {
     "name": "stdout",
     "output_type": "stream",
     "text": [
      "<class 'int'> <class 'float'>\n"
     ]
    }
   ],
   "source": [
    "print ( type(c) , type (d) )"
   ]
  },
  {
   "cell_type": "code",
   "execution_count": 35,
   "metadata": {},
   "outputs": [],
   "source": [
    "#converting a value to a string\n",
    "\n",
    "e = 700          #e contains a integer value\n",
    "f =  str(e)   # here the conversion takes place with the str(x) function."
   ]
  },
  {
   "cell_type": "code",
   "execution_count": 36,
   "metadata": {},
   "outputs": [
    {
     "data": {
      "text/plain": [
       "'700'"
      ]
     },
     "execution_count": 36,
     "metadata": {},
     "output_type": "execute_result"
    }
   ],
   "source": [
    "f"
   ]
  },
  {
   "cell_type": "code",
   "execution_count": 37,
   "metadata": {},
   "outputs": [
    {
     "name": "stdout",
     "output_type": "stream",
     "text": [
      "<class 'int'> <class 'str'>\n"
     ]
    }
   ],
   "source": [
    "print( type(e) , type (f) )"
   ]
  },
  {
   "cell_type": "markdown",
   "metadata": {},
   "source": [
    "### Why does this expression cause an error? How can you fix it?\n",
    "\n",
    "#### 'I have eaten ' + 99 + ' burritos.'\n"
   ]
  },
  {
   "cell_type": "code",
   "execution_count": 38,
   "metadata": {},
   "outputs": [
    {
     "ename": "TypeError",
     "evalue": "can only concatenate str (not \"int\") to str",
     "output_type": "error",
     "traceback": [
      "\u001b[1;31m---------------------------------------------------------------------------\u001b[0m",
      "\u001b[1;31mTypeError\u001b[0m                                 Traceback (most recent call last)",
      "\u001b[1;32m<ipython-input-38-d24137131a5c>\u001b[0m in \u001b[0;36m<module>\u001b[1;34m\u001b[0m\n\u001b[1;32m----> 1\u001b[1;33m \u001b[1;34m'I have eaten '\u001b[0m \u001b[1;33m+\u001b[0m \u001b[1;36m99\u001b[0m \u001b[1;33m+\u001b[0m \u001b[1;34m' burritos.'\u001b[0m\u001b[1;33m\u001b[0m\u001b[1;33m\u001b[0m\u001b[0m\n\u001b[0m",
      "\u001b[1;31mTypeError\u001b[0m: can only concatenate str (not \"int\") to str"
     ]
    }
   ],
   "source": [
    "'I have eaten ' + 99 + ' burritos.'"
   ]
  },
  {
   "cell_type": "markdown",
   "metadata": {},
   "source": [
    "in the above operation, the expression contains a string value, then an integer then again an string value. And the expression is trying to concatenate all the three values together. We know string value can only be concatenated with the string values only. String values can't be concatenated with any other type of data like an integer or a float or a complex and boolean value.\n",
    "\n",
    "In this case, first and last values are of same type of data, string but the middle one is integer. So this expression is giving error while executing.\n",
    "\n",
    "What I can do is -\n",
    "\n",
    "the non-string value, the middle one, I can convert that into a str value using the str(x) function and make the whole expression contain one data type of data, string. then try to concatenate. let's see - "
   ]
  },
  {
   "cell_type": "code",
   "execution_count": 39,
   "metadata": {},
   "outputs": [
    {
     "data": {
      "text/plain": [
       "'I have eaten 99 burritos.'"
      ]
     },
     "execution_count": 39,
     "metadata": {},
     "output_type": "execute_result"
    }
   ],
   "source": [
    "'I have eaten ' + str(99) + ' burritos.'"
   ]
  },
  {
   "cell_type": "markdown",
   "metadata": {},
   "source": [
    "yes, it is executable and successfully giving an desired output. "
   ]
  }
 ],
 "metadata": {
  "kernelspec": {
   "display_name": "Python 3",
   "language": "python",
   "name": "python3"
  },
  "language_info": {
   "codemirror_mode": {
    "name": "ipython",
    "version": 3
   },
   "file_extension": ".py",
   "mimetype": "text/x-python",
   "name": "python",
   "nbconvert_exporter": "python",
   "pygments_lexer": "ipython3",
   "version": "3.8.3"
  }
 },
 "nbformat": 4,
 "nbformat_minor": 4
}
